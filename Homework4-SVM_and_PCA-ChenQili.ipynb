{
 "cells": [
  {
   "cell_type": "markdown",
   "metadata": {},
   "source": [
    "# CMSE 202 Homework 4 (Individual)\n",
    "\n",
    "## Using SVM and PCA to predict the outcome of chess games\n",
    "\n",
    "### Goals for this homework assignment\n",
    "\n",
    "By the end of this assignment, you should be able to:\n",
    "\n",
    "* Use `git` to track your work and turn in your assignment\n",
    "* Read and impute data to prepare it for modeling\n",
    "* Build, fit, and evaluate an SVC model of data\n",
    "* Use PCA to reduce the number of important features\n",
    "* Build, fit, and evaluate an SVC model of pca transformed data\n",
    "* Systematically investigate the effects of the number of components on an SVC model of data\n",
    "\n",
    "\n",
    "### Assignment instructions:\n",
    "\n",
    "Work through the following assignment, making sure to follow all of the directions and answer all of the questions.\n",
    "\n",
    "There are 25 points possible on this assignment. Point values for each part are included in the section headers.\n",
    "\n",
    "This assignment is due at 11:59 pm on Friday, November 13th. It should be pushed to your repo (See Part 1). "
   ]
  },
  {
   "cell_type": "code",
   "execution_count": 99,
   "metadata": {},
   "outputs": [],
   "source": [
    "## Our imports\n",
    "import numpy as np\n",
    "import pandas as pd\n",
    "import matplotlib.pylab as plt\n",
    "from sklearn.model_selection import train_test_split\n",
    "from sklearn.model_selection import GridSearchCV\n",
    "from sklearn.metrics import classification_report\n",
    "from sklearn.metrics import confusion_matrix, accuracy_score\n",
    "from sklearn.svm import SVC\n",
    "from sklearn.decomposition import PCA"
   ]
  },
  {
   "cell_type": "markdown",
   "metadata": {},
   "source": [
    "---\n",
    "## 1. Adding notebook to your turn-in repository\n",
    "\n",
    "Like you did for Homework 3, you're going to add it to the CMSE202 repository you created in class so that you can track your progress on the assignment and preserve the final version that you turn in. In order to do this you need to:\n",
    "\n",
    "* Navigate to your /CMSE202/repos repository and create a new directory called hw-04.\n",
    "* Move this notebook into that new directory in your repository, then add it and commit it to your repository.\n",
    "   * Finally, to test that everything is working, \"git push\" the file so that it ends up in your GitHub repository.\n",
    "\n",
    "Important: Make sure you've added your TA as a collaborators to your respository with \"Read\" access so that we can see your assignment. (*If you did this for Homework 3, you do not need to do it again*)\n",
    "\n",
    "* Section 001: tuethan\n",
    "* Section 002: Luis-Polanco\n",
    "* Section 003: DavidRimel\n",
    "\n",
    "Also important: Make sure that the version of this notebook that you are working on is the same one that you just added to your repository! If you are working on a different copy of the notebook, none of your changes will be tracked.\n",
    "\n",
    "If everything went as intended, the file should now show up on your GitHub account CMSE202 repository under the hw-04 directory that you just created. Periodically, you'll be asked to commit your changes to the repository and push them to the remote GitHub location. Of course, you can always commit your changes more often than that, if you wish. It can be good to get into a habit of committing your changes any time you make a significant modification, or when you stop working on the project for a bit."
   ]
  },
  {
   "cell_type": "markdown",
   "metadata": {},
   "source": [
    "---\n",
    "## 2. Chess Game Data\n",
    "\n",
    "The data you will work are configurations of a chess end game. It assumes that a pawn is one move away from [\"queening\"](https://en.wikipedia.org/wiki/Promotion_(chess)) and \n",
    "the other pieces can be moved to perform different offensive or defensive actions. For each of the 36 potential features, there are several potential values for each (entries in a given column). **The details of the data matter a bit less for our purposes, but we are attempting to predict the won/loss by a given side.** If you really want to know about the data, you can look into a [classic text on Artificial Intelligence by Shapiro](https://www.amazon.com/Encyclopedia-Artificial-Intelligence-Stuart-Shapiro/dp/0471807486).\n",
    "\n",
    "You will first do this with a full model, then investigate how well the model works after a PCA has been done on the data.\n",
    "\n",
    "### 2.1 Read in the data\n",
    "\n",
    "First you need to read in the data from `kr-vs-kp.data`. You can look at `kr-vs-kp.names` to see how the data is structured. But we give you the code for the column naming as there are so many features and they are unlabeled in the `.data` file.\n",
    "\n",
    "```cols = [\"bkblk\",\"bknwy\",\"bkon8\",\"bkona\",\"bkspr\",\"bkxbq\",\"bkxcr\",\"bkxwp\",\"blxwp\",\"bxqsq\",\"cntxt\",\"dsopp\",\"dwipd\",\n",
    " \"hdchk\",\"katri\",\"mulch\",\"qxmsq\",\"r2ar8\",\"reskd\",\"reskr\",\"rimmx\",\"rkxwp\",\"rxmsq\",\"simpl\",\"skach\",\"skewr\",\n",
    " \"skrxp\",\"spcop\",\"stlmt\",\"thrsk\",\"wkcti\",\"wkna8\",\"wknck\",\"wkovl\",\"wkpos\",\"wtoeg\",\"won\"]```\n",
    " \n",
    "<font size=8 color=\"#009600\">&#9998;</font> Do this - Read in the data from `kr-vs-kp.data` using the columns listed above. Print the `.head()` of the dataframe."
   ]
  },
  {
   "cell_type": "code",
   "execution_count": 100,
   "metadata": {},
   "outputs": [],
   "source": [
    "## your code here\n",
    "cols = [\"bkblk\",\"bknwy\",\"bkon8\",\"bkona\",\"bkspr\",\"bkxbq\",\"bkxcr\",\"bkxwp\",\"blxwp\",\"bxqsq\",\"cntxt\",\"dsopp\",\"dwipd\",\n",
    " \"hdchk\",\"katri\",\"mulch\",\"qxmsq\",\"r2ar8\",\"reskd\",\"reskr\",\"rimmx\",\"rkxwp\",\"rxmsq\",\"simpl\",\"skach\",\"skewr\",\n",
    " \"skrxp\",\"spcop\",\"stlmt\",\"thrsk\",\"wkcti\",\"wkna8\",\"wknck\",\"wkovl\",\"wkpos\",\"wtoeg\",\"won\"]\n",
    "\n",
    "data = pd.read_csv(\"kr-vs-kp.data\",names = cols)"
   ]
  },
  {
   "cell_type": "markdown",
   "metadata": {},
   "source": [
    "### 2.2 Imputing the data\n",
    "\n",
    "There are no missing data in this data file, but there are some other issues. \n",
    "\n",
    "When you print the head of this data set, you probably noticed that all the features and labels are strings. We need to replace them with numerical values for modeling. For the `won` column replace winning with a 1 and losing with a 0. For the other columns, there are seven strings. Replace them using the following table:\n",
    "\n",
    "| raw data | replaced |\n",
    "| -------- | -------- |\n",
    "| f | 1 |\n",
    "| l | 2 |\n",
    "| n | 3 |\n",
    "| t | 4 |\n",
    "| w | 5 |\n",
    "| b | 6 |\n",
    "| g | 7 |\n",
    "\n",
    "**Note:** this choice really matters and for the models we have learned can really influence the results of our model. We do this because we need to for the model, but we haven't critically thought about the mapping that makes the most sense. There are other models (e.g., [tree-based alogrithms](https://en.wikipedia.org/wiki/Random_forest)) that can handle these categorical data without this mapping.\n",
    "\n",
    "<font size=8 color=\"#009600\">&#9998;</font> Do this - Replace the entries in the columns as indicated above. Print the `.head()` of the dataframe to show you have succesfull done so."
   ]
  },
  {
   "cell_type": "code",
   "execution_count": 101,
   "metadata": {},
   "outputs": [
    {
     "data": {
      "text/html": [
       "<div>\n",
       "<style scoped>\n",
       "    .dataframe tbody tr th:only-of-type {\n",
       "        vertical-align: middle;\n",
       "    }\n",
       "\n",
       "    .dataframe tbody tr th {\n",
       "        vertical-align: top;\n",
       "    }\n",
       "\n",
       "    .dataframe thead th {\n",
       "        text-align: right;\n",
       "    }\n",
       "</style>\n",
       "<table border=\"1\" class=\"dataframe\">\n",
       "  <thead>\n",
       "    <tr style=\"text-align: right;\">\n",
       "      <th></th>\n",
       "      <th>bkblk</th>\n",
       "      <th>bknwy</th>\n",
       "      <th>bkon8</th>\n",
       "      <th>bkona</th>\n",
       "      <th>bkspr</th>\n",
       "      <th>bkxbq</th>\n",
       "      <th>bkxcr</th>\n",
       "      <th>bkxwp</th>\n",
       "      <th>blxwp</th>\n",
       "      <th>bxqsq</th>\n",
       "      <th>...</th>\n",
       "      <th>spcop</th>\n",
       "      <th>stlmt</th>\n",
       "      <th>thrsk</th>\n",
       "      <th>wkcti</th>\n",
       "      <th>wkna8</th>\n",
       "      <th>wknck</th>\n",
       "      <th>wkovl</th>\n",
       "      <th>wkpos</th>\n",
       "      <th>wtoeg</th>\n",
       "      <th>won</th>\n",
       "    </tr>\n",
       "  </thead>\n",
       "  <tbody>\n",
       "    <tr>\n",
       "      <th>0</th>\n",
       "      <td>f</td>\n",
       "      <td>f</td>\n",
       "      <td>f</td>\n",
       "      <td>f</td>\n",
       "      <td>f</td>\n",
       "      <td>f</td>\n",
       "      <td>f</td>\n",
       "      <td>f</td>\n",
       "      <td>f</td>\n",
       "      <td>f</td>\n",
       "      <td>...</td>\n",
       "      <td>f</td>\n",
       "      <td>f</td>\n",
       "      <td>f</td>\n",
       "      <td>f</td>\n",
       "      <td>f</td>\n",
       "      <td>f</td>\n",
       "      <td>t</td>\n",
       "      <td>t</td>\n",
       "      <td>n</td>\n",
       "      <td>won</td>\n",
       "    </tr>\n",
       "    <tr>\n",
       "      <th>1</th>\n",
       "      <td>f</td>\n",
       "      <td>f</td>\n",
       "      <td>f</td>\n",
       "      <td>f</td>\n",
       "      <td>t</td>\n",
       "      <td>f</td>\n",
       "      <td>f</td>\n",
       "      <td>f</td>\n",
       "      <td>f</td>\n",
       "      <td>f</td>\n",
       "      <td>...</td>\n",
       "      <td>f</td>\n",
       "      <td>f</td>\n",
       "      <td>f</td>\n",
       "      <td>f</td>\n",
       "      <td>f</td>\n",
       "      <td>f</td>\n",
       "      <td>t</td>\n",
       "      <td>t</td>\n",
       "      <td>n</td>\n",
       "      <td>won</td>\n",
       "    </tr>\n",
       "    <tr>\n",
       "      <th>2</th>\n",
       "      <td>f</td>\n",
       "      <td>f</td>\n",
       "      <td>f</td>\n",
       "      <td>f</td>\n",
       "      <td>t</td>\n",
       "      <td>f</td>\n",
       "      <td>t</td>\n",
       "      <td>f</td>\n",
       "      <td>f</td>\n",
       "      <td>f</td>\n",
       "      <td>...</td>\n",
       "      <td>f</td>\n",
       "      <td>f</td>\n",
       "      <td>f</td>\n",
       "      <td>f</td>\n",
       "      <td>f</td>\n",
       "      <td>f</td>\n",
       "      <td>t</td>\n",
       "      <td>t</td>\n",
       "      <td>n</td>\n",
       "      <td>won</td>\n",
       "    </tr>\n",
       "    <tr>\n",
       "      <th>3</th>\n",
       "      <td>f</td>\n",
       "      <td>f</td>\n",
       "      <td>f</td>\n",
       "      <td>f</td>\n",
       "      <td>f</td>\n",
       "      <td>f</td>\n",
       "      <td>f</td>\n",
       "      <td>f</td>\n",
       "      <td>t</td>\n",
       "      <td>f</td>\n",
       "      <td>...</td>\n",
       "      <td>f</td>\n",
       "      <td>f</td>\n",
       "      <td>f</td>\n",
       "      <td>f</td>\n",
       "      <td>f</td>\n",
       "      <td>f</td>\n",
       "      <td>t</td>\n",
       "      <td>t</td>\n",
       "      <td>n</td>\n",
       "      <td>won</td>\n",
       "    </tr>\n",
       "    <tr>\n",
       "      <th>4</th>\n",
       "      <td>f</td>\n",
       "      <td>f</td>\n",
       "      <td>f</td>\n",
       "      <td>f</td>\n",
       "      <td>f</td>\n",
       "      <td>f</td>\n",
       "      <td>f</td>\n",
       "      <td>f</td>\n",
       "      <td>f</td>\n",
       "      <td>f</td>\n",
       "      <td>...</td>\n",
       "      <td>f</td>\n",
       "      <td>f</td>\n",
       "      <td>f</td>\n",
       "      <td>f</td>\n",
       "      <td>f</td>\n",
       "      <td>f</td>\n",
       "      <td>t</td>\n",
       "      <td>t</td>\n",
       "      <td>n</td>\n",
       "      <td>won</td>\n",
       "    </tr>\n",
       "  </tbody>\n",
       "</table>\n",
       "<p>5 rows × 37 columns</p>\n",
       "</div>"
      ],
      "text/plain": [
       "  bkblk bknwy bkon8 bkona bkspr bkxbq bkxcr bkxwp blxwp bxqsq  ... spcop  \\\n",
       "0     f     f     f     f     f     f     f     f     f     f  ...     f   \n",
       "1     f     f     f     f     t     f     f     f     f     f  ...     f   \n",
       "2     f     f     f     f     t     f     t     f     f     f  ...     f   \n",
       "3     f     f     f     f     f     f     f     f     t     f  ...     f   \n",
       "4     f     f     f     f     f     f     f     f     f     f  ...     f   \n",
       "\n",
       "  stlmt thrsk wkcti wkna8 wknck wkovl wkpos wtoeg  won  \n",
       "0     f     f     f     f     f     t     t     n  won  \n",
       "1     f     f     f     f     f     t     t     n  won  \n",
       "2     f     f     f     f     f     t     t     n  won  \n",
       "3     f     f     f     f     f     t     t     n  won  \n",
       "4     f     f     f     f     f     t     t     n  won  \n",
       "\n",
       "[5 rows x 37 columns]"
      ]
     },
     "execution_count": 101,
     "metadata": {},
     "output_type": "execute_result"
    }
   ],
   "source": [
    "data.head()"
   ]
  },
  {
   "cell_type": "code",
   "execution_count": 102,
   "metadata": {},
   "outputs": [],
   "source": [
    "## your code here\n",
    "dic = {\"f\":1,\"l\":2,\"n\":3,\"t\":4,\"w\":5,\"b\":6,\"g\":7,\"won\":1, \"nowin\":0}\n",
    "data = data.replace(dic).astype('int64')"
   ]
  },
  {
   "cell_type": "markdown",
   "metadata": {},
   "source": [
    "### 2.3 Separate features and class labels\n",
    "\n",
    "As we have seen in our analyses using `sklearn` it is advantageous to separate our dataframes into `features` and `labels` for the analysis we are intending to do.\n",
    "\n",
    "<font size=8 color=\"#009600\">&#9998;</font> Do this - Separate the data frame into two: a features dataframe and a labels dataframe."
   ]
  },
  {
   "cell_type": "code",
   "execution_count": 103,
   "metadata": {},
   "outputs": [
    {
     "data": {
      "text/plain": [
       "0       1\n",
       "1       1\n",
       "2       1\n",
       "3       1\n",
       "4       1\n",
       "       ..\n",
       "3191    0\n",
       "3192    0\n",
       "3193    0\n",
       "3194    0\n",
       "3195    0\n",
       "Name: won, Length: 3196, dtype: int64"
      ]
     },
     "execution_count": 103,
     "metadata": {},
     "output_type": "execute_result"
    }
   ],
   "source": [
    "## your code here\n",
    "temp_data = data\n",
    "labels = temp_data.pop('won')\n",
    "features = temp_data\n",
    "labels"
   ]
  },
  {
   "cell_type": "code",
   "execution_count": 104,
   "metadata": {},
   "outputs": [
    {
     "data": {
      "text/plain": [
       "1    1669\n",
       "0    1527\n",
       "Name: won, dtype: int64"
      ]
     },
     "execution_count": 104,
     "metadata": {},
     "output_type": "execute_result"
    }
   ],
   "source": [
    "labels.value_counts()"
   ]
  },
  {
   "cell_type": "markdown",
   "metadata": {},
   "source": [
    "**Question:** How balanced is your outcome variable? Why does it matter for the outcome to be balanced?"
   ]
  },
  {
   "cell_type": "markdown",
   "metadata": {},
   "source": [
    "<font size=8 color=\"#009600\">&#9998;</font> It's about half and half, balanced outcomes can give us a better model."
   ]
  },
  {
   "cell_type": "markdown",
   "metadata": {},
   "source": [
    "---\n",
    "## 3. Building an SVC model\n",
    "\n",
    "For this classification problem, we will use an support vector machine. As you learned in the midterm review, we could easily replace this with any `sklearn` classifier we choose. We will use a linear kernel.\n",
    "\n",
    "### 3.1 Splitting the data\n",
    "\n",
    "<font size=8 color=\"#009600\">&#9998;</font> Do this - Split your data into a training and testing set with a train size representing 75% of your data. Print the lengths to show you have the right number of entries."
   ]
  },
  {
   "cell_type": "code",
   "execution_count": 105,
   "metadata": {},
   "outputs": [
    {
     "name": "stdout",
     "output_type": "stream",
     "text": [
      "2397\n",
      "2397\n",
      "799\n",
      "799\n"
     ]
    }
   ],
   "source": [
    "## your code here\n",
    "x_train, x_test,y_train ,y_test = train_test_split(features,labels,train_size = 0.75)\n",
    "print(len(x_train))\n",
    "print(len(y_train))\n",
    "print(len(x_test))\n",
    "print(len(y_test))"
   ]
  },
  {
   "cell_type": "markdown",
   "metadata": {},
   "source": [
    "### 3.2 Modeling the data and evaluting the fit\n",
    "\n",
    "As you have done this a number of times, we ask you to do most of the analysis in one cell.\n",
    "\n",
    "<font size=8 color=\"#009600\">&#9998;</font> Do this - Build a linear SVC model (`C=100`), fit it to the training set, use the test features to predict the outcomes. Evaluate the fit using the confusion matrix and classification report.\n",
    "\n",
    " **Note:** You should look at the documentation on the confusion matrix because the way `sklearn` outputs false positives and false negatives is different from what most images on the web indicate."
   ]
  },
  {
   "cell_type": "code",
   "execution_count": 106,
   "metadata": {},
   "outputs": [],
   "source": [
    "## your code here\n",
    "#https://www.datacamp.com/community/tutorials/svm-classification-scikit-learn-python\n",
    "\n",
    "clf = SVC(C=100,kernel='linear') #what is rbf?\n",
    "clf.fit(x_train,y_train)\n",
    "pred = clf.predict(x_test)\n",
    "\n"
   ]
  },
  {
   "cell_type": "markdown",
   "metadata": {},
   "source": [
    "**Question:** How accurate is your model? What eveidence are you using to determine that? How many false positives and false negatives does it predict?"
   ]
  },
  {
   "cell_type": "code",
   "execution_count": 107,
   "metadata": {},
   "outputs": [
    {
     "name": "stdout",
     "output_type": "stream",
     "text": [
      "The confusion matrix is : \n",
      " [[365  15]\n",
      " [ 17 402]]\n",
      "ACCU: \n",
      " 0.9599499374217773\n"
     ]
    }
   ],
   "source": [
    "cm = confusion_matrix(y_test,pred)\n",
    "print(\"The confusion matrix is : \\n\",cm)\n",
    "print(\"ACCU: \\n\",accuracy_score(y_test,pred))\n",
    "#>>> tn, fp, fn, tp = confusion_matrix([0, 1, 0, 1], [1, 1, 1, 0]).ravel()\n",
    "#>>> (tn, fp, fn, tp)\n",
    "#(0, 2, 1, 1)\n"
   ]
  },
  {
   "cell_type": "markdown",
   "metadata": {},
   "source": [
    "<font size=8 color=\"#009600\">&#9998;</font>  There are 15 false positives and 17 false negatives it predicted."
   ]
  },
  {
   "cell_type": "markdown",
   "metadata": {},
   "source": [
    "---\n",
    "## 4. Finding and using the best hyperparameters\n",
    "\n",
    "We have fit one model and determined it's performance, but is it the best model? We can use `GridSearchCV` to find the best model (given our choices of parameters). Once we do that, we will use that best model going forward. **Note:** you would typically rerun this grid search in a production environment to continue to verify the best model, but we are not for the sake of speed.\n",
    "\n",
    "### 4.1 Grid search\n",
    "\n",
    "<font size=8 color=\"#009600\">&#9998;</font> Do this - Using the following parameters (`C` = 1, 10, 100, 1000 and `gamma` = 1e-4, 1e-3, 0.01, 0.1) for both a `linear` and `rbf` kernel use `GridSearchCV` with the `SVC()` model to find the best fit parameters. Print the \"best estimators\"."
   ]
  },
  {
   "cell_type": "code",
   "execution_count": 108,
   "metadata": {},
   "outputs": [
    {
     "name": "stdout",
     "output_type": "stream",
     "text": [
      "Fitting the classifier to the training set\n",
      "Best estimator found by grid search:\n",
      "SVC(C=1, class_weight='balanced', gamma=0.0001, kernel='linear')\n"
     ]
    }
   ],
   "source": [
    "\n",
    "    \n",
    "print(\"Fitting the classifier to the training set\")\n",
    "param_grid = {'C': [1, 10, 100, 1000],\n",
    "                  'gamma': [1e-4, 1e-3, 0.01, 0.1], }\n",
    "clf = GridSearchCV(SVC(kernel='linear', class_weight='balanced'), param_grid, n_jobs=-1)\n",
    "clf = clf.fit(x_train, y_train)\n",
    "print(\"Best estimator found by grid search:\")\n",
    "print(clf.best_estimator_)\n",
    "\n",
    "\n",
    "    "
   ]
  },
  {
   "cell_type": "code",
   "execution_count": 109,
   "metadata": {},
   "outputs": [
    {
     "name": "stdout",
     "output_type": "stream",
     "text": [
      "The confusion matrix is : \n",
      " [[377   3]\n",
      " [  1 418]]\n",
      "ACCU: \n",
      " 0.9949937421777222\n"
     ]
    }
   ],
   "source": [
    "#SVC for RBF\n",
    "clf = SVC(C=100,kernel='rbf') #what is rbf?\n",
    "clf.fit(x_train,y_train)\n",
    "pred = clf.predict(x_test)\n",
    "cm = confusion_matrix(y_test,pred)\n",
    "print(\"The confusion matrix is : \\n\",cm)\n",
    "print(\"ACCU: \\n\",accuracy_score(y_test,pred))\n",
    "#>>> tn, fp, fn, tp = confusion_matrix([0, 1, 0, 1], [1, 1, 1, 0]).ravel()\n",
    "#>>> (tn, fp, fn, tp)\n",
    "#(0, 2, 1, 1)\n"
   ]
  },
  {
   "cell_type": "code",
   "execution_count": 110,
   "metadata": {},
   "outputs": [
    {
     "name": "stdout",
     "output_type": "stream",
     "text": [
      "Fitting the classifier to the training set\n",
      "Best estimator found by grid search:\n",
      "SVC(C=1000, class_weight='balanced', gamma=0.01)\n"
     ]
    }
   ],
   "source": [
    "\n",
    "print(\"Fitting the classifier to the training set\")\n",
    "param_grid = {'C': [1, 10, 100, 1000],\n",
    "                  'gamma': [1e-4, 1e-3, 0.01, 0.1], }\n",
    "clf = GridSearchCV(SVC(kernel='rbf', class_weight='balanced'), param_grid, n_jobs=-1)\n",
    "clf = clf.fit(x_train, y_train)\n",
    "print(\"Best estimator found by grid search:\")\n",
    "print(clf.best_estimator_)\n"
   ]
  },
  {
   "cell_type": "markdown",
   "metadata": {},
   "source": [
    "### 4.2 Evaluating the best fit model\n",
    "\n",
    "Now that we have found the \"best estimators\", let's determine how good the fit is.\n",
    "\n",
    "<font size=8 color=\"#009600\">&#9998;</font> Do this - Use the test features to predict the outcomes for the best model. Evaluate the fit using the confusion matrix and classification report. \n",
    "\n",
    "**Note:** You should look at the documentation on the confusion matrix because the way `sklearn` outputs false positives and false negatives is different from what most images on the web indicate."
   ]
  },
  {
   "cell_type": "code",
   "execution_count": 111,
   "metadata": {},
   "outputs": [
    {
     "name": "stdout",
     "output_type": "stream",
     "text": [
      "The confusion matrix is : \n",
      " [[377   3]\n",
      " [  1 418]]\n",
      "ACCU: \n",
      " 0.9949937421777222\n"
     ]
    }
   ],
   "source": [
    "## your code here\n",
    "clf = SVC(C=1000,class_weight='balanced',gamma=0.01,kernel='rbf') \n",
    "clf.fit(x_train,y_train)\n",
    "pred = clf.predict(x_test)\n",
    "cm = confusion_matrix(y_test,pred)\n",
    "print(\"The confusion matrix is : \\n\",cm)\n",
    "print(\"ACCU: \\n\",accuracy_score(y_test,pred))"
   ]
  },
  {
   "cell_type": "markdown",
   "metadata": {},
   "source": [
    "**Question:** How accurate is this best model? What evidence are you using to determine that? How many false positives and false negatives does it predict?"
   ]
  },
  {
   "cell_type": "markdown",
   "metadata": {},
   "source": [
    "<font size=8 color=\"#009600\">&#9998;</font> This model is really really good, it has only 3 false positive and 1 false negative"
   ]
  },
  {
   "cell_type": "markdown",
   "metadata": {},
   "source": [
    "---\n",
    "## 5. Using Principal Components\n",
    "\n",
    "The full model uses 36 features to predict the results. And you likely found that the model is incredibly accurate. But in some cases, we might have even more features (which means much more computational time), and we might not need nearly the level of accuracy we can achieve with the full data set. So, we will see how close we can get with fewer features. But instead of simply removing features, we will use a PCA to determine the featurse that contribute the most the model (through their accounted variance) and use those to build our SVC model.\n",
    "\n",
    "### 5.1 Building a PCA\n",
    "\n",
    "We will start with a small number of components (say, 4) to see how well we can predict the outcomes of the games.\n",
    "\n",
    "<font size=8 color=\"#009600\">&#9998;</font> Do this - Using `PCA()`, fit a pca to your training features with 4 components. Transform both the test and training features using this pca. Plot the `explained_variance_` versus component number."
   ]
  },
  {
   "cell_type": "code",
   "execution_count": 112,
   "metadata": {},
   "outputs": [
    {
     "name": "stdout",
     "output_type": "stream",
     "text": [
      "pca.explained_variance is  [6.84961938 4.86808843 4.58993359 3.09589198]\n",
      "sum of pca.explained_variance is  19.403533386386485\n"
     ]
    },
    {
     "data": {
      "text/plain": [
       "[<matplotlib.lines.Line2D at 0x13c0e2f6760>]"
      ]
     },
     "execution_count": 112,
     "metadata": {},
     "output_type": "execute_result"
    },
    {
     "data": {
      "image/png": "[encoded data removed]",
      "text/plain": [
       "<Figure size 432x288 with 1 Axes>"
      ]
     },
     "metadata": {
      "needs_background": "light"
     },
     "output_type": "display_data"
    }
   ],
   "source": [
    "## your code here\n",
    "n_components = 4 \n",
    "\n",
    "#Set up the pca object with the number of compoents we want to find\n",
    "pca = PCA(n_components=n_components, whiten=True)\n",
    "\n",
    "#Fit the training data to the pca model.\n",
    "_ = pca.fit(x_train)\n",
    "print(\"pca.explained_variance is \", pca.explained_variance_)\n",
    "print(\"sum of pca.explained_variance is \", sum(pca.explained_variance_))\n",
    "\n",
    "plt.plot(pca.explained_variance_ratio_, marker=\"o\")\n",
    "\n",
    "#% of total var we capture\n",
    "\n",
    "#need to go help room"
   ]
  },
  {
   "cell_type": "markdown",
   "metadata": {},
   "source": [
    "**Question:** What is the total explained variance captured by this PCA (we will use this later, just quote the number)? How well do you think a model with this many featuers will perform? Why?"
   ]
  },
  {
   "cell_type": "markdown",
   "metadata": {},
   "source": [
    "<font size=8 color=\"#009600\">&#9998;</font> 19.403533386386485 is the sum of all the variances, the greater the number, means the model is less accurate"
   ]
  },
  {
   "cell_type": "markdown",
   "metadata": {},
   "source": [
    "### 5.2 Fit and Evaluate an SVC model\n",
    "\n",
    "Using the pca transformed features, we will train and test an SVC model using the \"best estimators\".\n",
    "\n",
    "<font size=8 color=\"#009600\">&#9998;</font> Do this - Using the pca transformed training data, build and train an SVC model. Predict the classes using the pca transformed test data. Evaluate the model using the classfication report, and the confusion matrix."
   ]
  },
  {
   "cell_type": "code",
   "execution_count": 72,
   "metadata": {},
   "outputs": [],
   "source": [
    "## your code here\n",
    "pca_t_x = pca.transform(x_train)\n",
    "pca_te_x = pca.transform(x_test)\n"
   ]
  },
  {
   "cell_type": "code",
   "execution_count": 75,
   "metadata": {},
   "outputs": [
    {
     "name": "stdout",
     "output_type": "stream",
     "text": [
      "The confusion matrix is : \n",
      " [[236 138]\n",
      " [197 228]]\n",
      "ACCU: \n",
      " 0.5807259073842302\n"
     ]
    }
   ],
   "source": [
    "\n",
    "clf = SVC(C=1000,class_weight='balanced',gamma=0.01,kernel='rbf') \n",
    "clf.fit(pca_t_x,y_train)\n",
    "pred = clf.predict(pca_te_x)\n",
    "\n",
    "\n",
    "\n",
    "cm = confusion_matrix(y_test,pred)\n",
    "print(\"The confusion matrix is : \\n\",cm)\n",
    "print(\"ACCU: \\n\",accuracy_score(y_test,pred))"
   ]
  },
  {
   "cell_type": "markdown",
   "metadata": {},
   "source": [
    "**Question:** How accurate is this model? What evidence are you using to determine that? How many false positives and false negatives does it predict? How does it compare to the full model?"
   ]
  },
  {
   "cell_type": "markdown",
   "metadata": {},
   "source": [
    "<font size=8 color=\"#009600\">&#9998;</font> It did much worse beased on the confusion matrix and the Accuracy score, it has 138 false postive and 197 false negative."
   ]
  },
  {
   "cell_type": "markdown",
   "metadata": {},
   "source": [
    "### 5.3 Repeat your analysis with more components\n",
    "\n",
    "You probably found that the model with 4 features didn't work so well. What if we increase the number of components (say to 30, which is still 6 fewer than the full data set). What happens now?\n",
    "\n",
    "<font size=8 color=\"#009600\">&#9998;</font> Do this - Repeat your analysis from 5.1 and 5.2 using 30 components instead."
   ]
  },
  {
   "cell_type": "code",
   "execution_count": 113,
   "metadata": {},
   "outputs": [
    {
     "name": "stdout",
     "output_type": "stream",
     "text": [
      "pca.explained_variance is  [6.84961944 4.86808868 4.58993421 3.0959181  2.57445038 2.40919787\n",
      " 2.21242424 1.91647746 1.81716428 1.56208748 1.2555961  1.07731546\n",
      " 1.0141611  0.95230838 0.83187312 0.7821989  0.7360401  0.7060611\n",
      " 0.58673848 0.5386332  0.50574688 0.4640287  0.43329204 0.38058383\n",
      " 0.32023393 0.25987816 0.2408886  0.17763865 0.13397636 0.10894023]\n",
      "sum of pca.explained_variance is  43.401495493453886\n"
     ]
    },
    {
     "data": {
      "text/plain": [
       "[<matplotlib.lines.Line2D at 0x13c085a5130>]"
      ]
     },
     "execution_count": 113,
     "metadata": {},
     "output_type": "execute_result"
    },
    {
     "data": {
      "image/png": "[encoded data removed]",
      "text/plain": [
       "<Figure size 432x288 with 1 Axes>"
      ]
     },
     "metadata": {
      "needs_background": "light"
     },
     "output_type": "display_data"
    }
   ],
   "source": [
    "## your code here\n",
    "n_components = 30\n",
    "\n",
    "#Set up the pca object with the number of compoents we want to find\n",
    "pca = PCA(n_components=n_components, whiten=True)\n",
    "\n",
    "#Fit the training data to the pca model.\n",
    "_ = pca.fit(x_train)\n",
    "\n",
    "print(\"pca.explained_variance is \", pca.explained_variance_)\n",
    "print(\"sum of pca.explained_variance is \", sum(pca.explained_variance_))\n",
    "\n",
    "plt.plot(pca.explained_variance_ratio_, marker=\"o\")\n"
   ]
  },
  {
   "cell_type": "code",
   "execution_count": 114,
   "metadata": {},
   "outputs": [],
   "source": [
    "pca_t_x = pca.transform(x_train)\n",
    "pca_te_x = pca.transform(x_test)\n"
   ]
  },
  {
   "cell_type": "code",
   "execution_count": 115,
   "metadata": {},
   "outputs": [
    {
     "name": "stdout",
     "output_type": "stream",
     "text": [
      "The confusion matrix is : \n",
      " [[373   7]\n",
      " [  5 414]]\n",
      "ACCU: \n",
      " 0.9849812265331664\n"
     ]
    }
   ],
   "source": [
    "\n",
    "clf = SVC(C=1000,class_weight='balanced',gamma=0.01,kernel='rbf') \n",
    "clf.fit(pca_t_x,y_train)\n",
    "pred = clf.predict(pca_te_x)\n",
    "\n",
    "\n",
    "cm = confusion_matrix(y_test,pred)\n",
    "print(\"The confusion matrix is : \\n\",cm)\n",
    "print(\"ACCU: \\n\",accuracy_score(y_test,pred))"
   ]
  },
  {
   "cell_type": "code",
   "execution_count": null,
   "metadata": {},
   "outputs": [],
   "source": []
  },
  {
   "cell_type": "markdown",
   "metadata": {},
   "source": [
    "**Question:** What is the total explained variance captured by this PCA? How accurate is this model? What evidence are you using to determine that? How many false positives and false negatives does it predict? How does it compare to the 4 component model? To the full model?"
   ]
  },
  {
   "cell_type": "markdown",
   "metadata": {},
   "source": [
    "<font size=8 color=\"#009600\">&#9998;</font> 43.401495493453886 is the total variances, it has 7 false postive and 5 false negative."
   ]
  },
  {
   "cell_type": "markdown",
   "metadata": {},
   "source": [
    "---\n",
    "## 6. How well does a PCA work?\n",
    "\n",
    "Clearly, the number of components we use in our PCA matters. Let's investigate how they matter by systematically building a model for any number of selected components.\n",
    "\n",
    "### 6.1 Accuracy vs. Components\n",
    "\n",
    "We will do this by writing a function that creates the PCA, the SVC model, fits the training data, predict the labels using test data, and returns the accuracy scores and the explained variance. So your function will take as input:\n",
    "* the number of components\n",
    "* the training features\n",
    "* the test features\n",
    "* the training labels\n",
    "* the test labels\n",
    "and it will return the accuracy scores for an SVC model fit to pca transformed features and the total explained variance.\n",
    "\n",
    "<font size=8 color=\"#009600\">&#9998;</font> Do this - Create this function, which you will use in the next section."
   ]
  },
  {
   "cell_type": "code",
   "execution_count": 96,
   "metadata": {},
   "outputs": [],
   "source": [
    "## your code here\n",
    "def fun(n,x_train,x_test,y_train,y_test):\n",
    "    #make SVC\n",
    "\n",
    "    \n",
    "    #fit to PCA\n",
    "    #Set up the pca object with the number of compoents we want to find\n",
    "    pca = PCA(n_components=n, whiten=True)\n",
    "\n",
    "    #Fit the training data to the pca model.\n",
    "    _ = pca.fit(x_train)\n",
    "\n",
    "    print(\"pca.explained_variance is \", pca.explained_variance_)\n",
    "    print(\"sum of pca.explained_variance is \", sum(pca.explained_variance_))\n",
    "    \n",
    "    #tranform train and test vector\n",
    "    pca_train_x = pca.transform(x_train)\n",
    "    pca_test_x = pca.transform(x_test)\n",
    "    \n",
    "    clf = SVC(C=1000,class_weight='balanced',gamma=0.01,kernel='rbf') \n",
    "    clf.fit(pca_train_x,y_train)\n",
    "    pred = clf.predict(pca_test_x)\n",
    "\n",
    "\n",
    "    cm = confusion_matrix(y_test,pred)\n",
    "    print(\"The confusion matrix is : \\n\",cm)\n",
    "    print(\"ACCU: \\n\",accuracy_score(y_test,pred))\n",
    "\n",
    "    return  accuracy_score(y_test,pred),sum(pca.explained_variance_)\n",
    "    \n",
    "    #accuracy scores for an SVC model fit to pca transformed features,              the total explained variance."
   ]
  },
  {
   "cell_type": "markdown",
   "metadata": {},
   "source": [
    "### 6.2 Compute accuracies\n",
    "\n",
    "Now that you have created a function that returns the accuracy for a given number of components, we will use that to plot the how the accuracy of your SVC model changes when we increase the number of components used in the PCA.\n",
    "\n",
    "<font size=8 color=\"#009600\">&#9998;</font> Do this - For 1 to 36 components, use your function above to compute and store (as a list) the accuracy of your models."
   ]
  },
  {
   "cell_type": "code",
   "execution_count": 97,
   "metadata": {},
   "outputs": [
    {
     "name": "stdout",
     "output_type": "stream",
     "text": [
      "pca.explained_variance is  [7.10649836]\n",
      "The confusion matrix is : \n",
      " [[170 204]\n",
      " [144 281]]\n",
      "ACCU: \n",
      " 0.5644555694618273\n",
      "pca.explained_variance is  [7.10649836 4.9565906 ]\n",
      "The confusion matrix is : \n",
      " [[253 121]\n",
      " [234 191]]\n",
      "ACCU: \n",
      " 0.5556946182728411\n",
      "pca.explained_variance is  [7.10649836 4.9565906  4.49501783]\n",
      "The confusion matrix is : \n",
      " [[208 166]\n",
      " [181 244]]\n",
      "ACCU: \n",
      " 0.5657071339173968\n",
      "pca.explained_variance is  [7.10649824 4.95658955 4.49501632 3.12030151]\n",
      "The confusion matrix is : \n",
      " [[236 138]\n",
      " [197 228]]\n",
      "ACCU: \n",
      " 0.5807259073842302\n",
      "pca.explained_variance is  [7.10649836 4.95659045 4.49501453 3.12030487 2.66907532]\n",
      "The confusion matrix is : \n",
      " [[257 117]\n",
      " [ 99 326]]\n",
      "ACCU: \n",
      " 0.7296620775969962\n",
      "pca.explained_variance is  [7.10649836 4.95659058 4.49501781 3.12031122 2.66908993 2.36397258]\n",
      "The confusion matrix is : \n",
      " [[310  64]\n",
      " [ 95 330]]\n",
      "ACCU: \n",
      " 0.8010012515644556\n",
      "pca.explained_variance is  [7.10649836 4.9565906  4.4950178  3.12031734 2.66909376 2.36398268\n",
      " 2.2742328 ]\n",
      "The confusion matrix is : \n",
      " [[332  42]\n",
      " [ 58 367]]\n",
      "ACCU: \n",
      " 0.8748435544430538\n",
      "pca.explained_variance is  [7.10649836 4.95659046 4.49501778 3.12031682 2.66909326 2.36396975\n",
      " 2.27423868 1.92555791]\n",
      "The confusion matrix is : \n",
      " [[339  35]\n",
      " [ 54 371]]\n",
      "ACCU: \n",
      " 0.8886107634543179\n",
      "pca.explained_variance is  [7.10649835 4.95659059 4.49501775 3.12031574 2.66908764 2.3639779\n",
      " 2.27423416 1.92548955 1.78228021]\n",
      "The confusion matrix is : \n",
      " [[347  27]\n",
      " [ 35 390]]\n",
      "ACCU: \n",
      " 0.9224030037546934\n",
      "pca.explained_variance is  [7.10649836 4.9565906  4.49501782 3.1203174  2.66909391 2.36398096\n",
      " 2.2742404  1.9255643  1.78249643 1.51379471]\n",
      "The confusion matrix is : \n",
      " [[356  18]\n",
      " [ 20 405]]\n",
      "ACCU: \n",
      " 0.9524405506883604\n",
      "pca.explained_variance is  [7.10649836 4.9565906  4.49501783 3.12031748 2.66909684 2.36398557\n",
      " 2.274242   1.92556378 1.78249259 1.51378985 1.25587927]\n",
      "The confusion matrix is : \n",
      " [[356  18]\n",
      " [ 16 409]]\n",
      "ACCU: \n",
      " 0.9574468085106383\n",
      "pca.explained_variance is  [7.10649836 4.9565906  4.49501783 3.12031731 2.66909714 2.36398422\n",
      " 2.27424289 1.92556657 1.78249412 1.51381529 1.25601658 1.08734984]\n",
      "The confusion matrix is : \n",
      " [[357  17]\n",
      " [  8 417]]\n",
      "ACCU: \n",
      " 0.9687108886107635\n",
      "pca.explained_variance is  [7.10649836 4.9565906  4.49501783 3.12031753 2.66909711 2.36398556\n",
      " 2.2742427  1.92556193 1.78249703 1.51381754 1.25611216 1.08738999\n",
      " 0.99361492]\n",
      "The confusion matrix is : \n",
      " [[359  15]\n",
      " [  8 417]]\n",
      "ACCU: \n",
      " 0.9712140175219024\n",
      "pca.explained_variance is  [7.10649836 4.9565906  4.49501783 3.12031755 2.66909724 2.36398563\n",
      " 2.27424288 1.92557029 1.78250064 1.51382535 1.25613298 1.08753735\n",
      " 0.993553   0.94093076]\n",
      "The confusion matrix is : \n",
      " [[362  12]\n",
      " [ 11 414]]\n",
      "ACCU: \n",
      " 0.9712140175219024\n",
      "pca.explained_variance is  [7.10649836 4.9565906  4.49501783 3.12031755 2.66909726 2.36398565\n",
      " 2.27424291 1.92557068 1.78250127 1.51382572 1.25613941 1.08752879\n",
      " 0.99365352 0.94094902 0.83570907]\n",
      "The confusion matrix is : \n",
      " [[361  13]\n",
      " [  8 417]]\n",
      "ACCU: \n",
      " 0.9737171464330413\n",
      "pca.explained_variance is  [7.10649836 4.9565906  4.49501783 3.12031755 2.66909726 2.36398565\n",
      " 2.27424292 1.92557068 1.78250123 1.51382535 1.2561396  1.08753747\n",
      " 0.99361043 0.94095956 0.83571253 0.77230516]\n",
      "The confusion matrix is : \n",
      " [[358  16]\n",
      " [  8 417]]\n",
      "ACCU: \n",
      " 0.9699624530663329\n",
      "pca.explained_variance is  [7.10649836 4.9565906  4.49501783 3.12031755 2.66909726 2.36398568\n",
      " 2.27424294 1.92557067 1.7825013  1.51382565 1.25613971 1.08753834\n",
      " 0.99365392 0.94096036 0.83571285 0.7723071  0.73018341]\n",
      "The confusion matrix is : \n",
      " [[354  20]\n",
      " [  6 419]]\n",
      "ACCU: \n",
      " 0.967459324155194\n",
      "pca.explained_variance is  [7.10649836 4.9565906  4.49501783 3.12031755 2.66909726 2.36398568\n",
      " 2.27424294 1.92557068 1.78250131 1.51382574 1.25613973 1.08753856\n",
      " 0.99365433 0.94096081 0.83571469 0.77230762 0.73018791 0.67621579]\n",
      "The confusion matrix is : \n",
      " [[359  15]\n",
      " [  8 417]]\n",
      "ACCU: \n",
      " 0.9712140175219024\n",
      "pca.explained_variance is  [7.10649836 4.9565906  4.49501783 3.12031755 2.66909726 2.36398568\n",
      " 2.27424294 1.92557068 1.78250131 1.51382574 1.25613974 1.08753865\n",
      " 0.99365434 0.94096085 0.83571483 0.77230791 0.73018761 0.67621534\n",
      " 0.61236612]\n",
      "The confusion matrix is : \n",
      " [[359  15]\n",
      " [  9 416]]\n",
      "ACCU: \n",
      " 0.9699624530663329\n",
      "pca.explained_variance is  [7.10649836 4.9565906  4.49501783 3.12031755 2.66909726 2.36398568\n",
      " 2.27424294 1.92557068 1.78250131 1.51382574 1.25613974 1.08753866\n",
      " 0.99365434 0.94096085 0.83571487 0.77230794 0.73018798 0.67621582\n",
      " 0.61236717 0.54119931]\n",
      "The confusion matrix is : \n",
      " [[363  11]\n",
      " [  3 422]]\n",
      "ACCU: \n",
      " 0.9824780976220275\n",
      "pca.explained_variance is  [7.10649836 4.9565906  4.49501783 3.12031755 2.66909726 2.36398568\n",
      " 2.27424294 1.92557068 1.78250131 1.51382574 1.25613974 1.08753866\n",
      " 0.99365434 0.94096085 0.83571487 0.77230794 0.73018798 0.67621582\n",
      " 0.6123672  0.54119938 0.5317667 ]\n",
      "The confusion matrix is : \n",
      " [[362  12]\n",
      " [  5 420]]\n",
      "ACCU: \n",
      " 0.9787234042553191\n",
      "pca.explained_variance is  [7.10649836 4.9565906  4.49501783 3.12031755 2.66909726 2.36398568\n",
      " 2.27424294 1.92557068 1.78250131 1.51382574 1.25613974 1.08753866\n",
      " 0.99365434 0.94096085 0.83571487 0.77230794 0.73018798 0.67621582\n",
      " 0.6123672  0.54119938 0.5317667  0.49407672]\n",
      "The confusion matrix is : \n",
      " [[366   8]\n",
      " [  2 423]]\n",
      "ACCU: \n",
      " 0.9874843554443054\n",
      "pca.explained_variance is  [7.10649836 4.9565906  4.49501783 3.12031755 2.66909726 2.36398568\n",
      " 2.27424294 1.92557068 1.78250131 1.51382574 1.25613974 1.08753866\n",
      " 0.99365434 0.94096085 0.83571487 0.77230794 0.73018798 0.67621582\n",
      " 0.6123672  0.54119938 0.53176671 0.49407672 0.4483305 ]\n",
      "The confusion matrix is : \n",
      " [[367   7]\n",
      " [  3 422]]\n",
      "ACCU: \n",
      " 0.9874843554443054\n",
      "pca.explained_variance is  [7.10649836 4.9565906  4.49501783 3.12031755 2.66909726 2.36398568\n",
      " 2.27424294 1.92557068 1.78250131 1.51382574 1.25613974 1.08753866\n",
      " 0.99365434 0.94096085 0.83571487 0.77230794 0.73018798 0.67621582\n",
      " 0.6123672  0.54119938 0.53176671 0.49407672 0.4483305  0.38809163]\n",
      "The confusion matrix is : \n",
      " [[367   7]\n",
      " [  2 423]]\n",
      "ACCU: \n",
      " 0.9887359198998749\n",
      "pca.explained_variance is  [7.10649836 4.9565906  4.49501783 3.12031755 2.66909726 2.36398568\n",
      " 2.27424294 1.92557068 1.78250131 1.51382574 1.25613974 1.08753866\n",
      " 0.99365434 0.94096085 0.83571487 0.77230794 0.73018798 0.67621582\n",
      " 0.6123672  0.54119938 0.53176671 0.49407672 0.4483305  0.38809163\n",
      " 0.31138883]\n",
      "The confusion matrix is : \n",
      " [[366   8]\n",
      " [  2 423]]\n",
      "ACCU: \n",
      " 0.9874843554443054\n",
      "pca.explained_variance is  [7.10649836 4.9565906  4.49501783 3.12031755 2.66909726 2.36398568\n",
      " 2.27424294 1.92557068 1.78250131 1.51382574 1.25613974 1.08753866\n",
      " 0.99365434 0.94096085 0.83571487 0.77230794 0.73018798 0.67621582\n",
      " 0.6123672  0.54119938 0.53176671 0.49407672 0.4483305  0.38809163\n",
      " 0.31138883 0.26448288]\n",
      "The confusion matrix is : \n",
      " [[367   7]\n",
      " [  3 422]]\n",
      "ACCU: \n",
      " 0.9874843554443054\n",
      "pca.explained_variance is  [7.10649836 4.9565906  4.49501783 3.12031755 2.66909726 2.36398568\n",
      " 2.27424294 1.92557068 1.78250131 1.51382574 1.25613974 1.08753866\n",
      " 0.99365434 0.94096085 0.83571487 0.77230794 0.73018798 0.67621582\n",
      " 0.6123672  0.54119938 0.53176671 0.49407672 0.4483305  0.38809163\n",
      " 0.31138883 0.26448288 0.23099424]\n",
      "The confusion matrix is : \n",
      " [[367   7]\n",
      " [  3 422]]\n",
      "ACCU: \n",
      " 0.9874843554443054\n",
      "pca.explained_variance is  [7.10649836 4.9565906  4.49501783 3.12031755 2.66909726 2.36398568\n",
      " 2.27424294 1.92557068 1.78250131 1.51382574 1.25613974 1.08753866\n",
      " 0.99365434 0.94096085 0.83571487 0.77230794 0.73018798 0.67621582\n",
      " 0.6123672  0.54119938 0.53176671 0.49407672 0.4483305  0.38809163\n",
      " 0.31138883 0.26448288 0.23099424 0.17842812]\n",
      "The confusion matrix is : \n",
      " [[367   7]\n",
      " [  3 422]]\n",
      "ACCU: \n",
      " 0.9874843554443054\n",
      "pca.explained_variance is  [7.10649836 4.9565906  4.49501783 3.12031755 2.66909726 2.36398568\n",
      " 2.27424294 1.92557068 1.78250131 1.51382574 1.25613974 1.08753866\n",
      " 0.99365434 0.94096085 0.83571487 0.77230794 0.73018798 0.67621582\n",
      " 0.6123672  0.54119938 0.53176671 0.49407672 0.4483305  0.38809163\n",
      " 0.31138883 0.26448288 0.23099424 0.17842812 0.14805193]\n",
      "The confusion matrix is : \n",
      " [[369   5]\n",
      " [  4 421]]\n",
      "ACCU: \n",
      " 0.9887359198998749\n",
      "pca.explained_variance is  [7.10649836 4.9565906  4.49501783 3.12031755 2.66909726 2.36398568\n",
      " 2.27424294 1.92557068 1.78250131 1.51382574 1.25613974 1.08753866\n",
      " 0.99365434 0.94096085 0.83571487 0.77230794 0.73018798 0.67621582\n",
      " 0.6123672  0.54119938 0.53176671 0.49407672 0.4483305  0.38809163\n",
      " 0.31138883 0.26448288 0.23099424 0.17842812 0.14805193 0.10768931]\n",
      "The confusion matrix is : \n",
      " [[369   5]\n",
      " [  4 421]]\n",
      "ACCU: \n",
      " 0.9887359198998749\n",
      "pca.explained_variance is  [7.10649836 4.9565906  4.49501783 3.12031755 2.66909726 2.36398568\n",
      " 2.27424294 1.92557068 1.78250131 1.51382574 1.25613974 1.08753866\n",
      " 0.99365434 0.94096085 0.83571487 0.77230794 0.73018798 0.67621582\n",
      " 0.6123672  0.54119938 0.53176671 0.49407672 0.4483305  0.38809163\n",
      " 0.31138883 0.26448288 0.23099424 0.17842812 0.14805193 0.10768931\n",
      " 0.09148854]\n"
     ]
    },
    {
     "name": "stdout",
     "output_type": "stream",
     "text": [
      "The confusion matrix is : \n",
      " [[369   5]\n",
      " [  4 421]]\n",
      "ACCU: \n",
      " 0.9887359198998749\n",
      "pca.explained_variance is  [7.10649836 4.9565906  4.49501783 3.12031755 2.66909726 2.36398568\n",
      " 2.27424294 1.92557068 1.78250131 1.51382574 1.25613974 1.08753866\n",
      " 0.99365434 0.94096085 0.83571487 0.77230794 0.73018798 0.67621582\n",
      " 0.6123672  0.54119938 0.53176671 0.49407672 0.4483305  0.38809163\n",
      " 0.31138883 0.26448288 0.23099424 0.17842812 0.14805193 0.10768931\n",
      " 0.09148854 0.07272821]\n",
      "The confusion matrix is : \n",
      " [[369   5]\n",
      " [  4 421]]\n",
      "ACCU: \n",
      " 0.9887359198998749\n",
      "pca.explained_variance is  [7.10649836 4.9565906  4.49501783 3.12031755 2.66909726 2.36398568\n",
      " 2.27424294 1.92557068 1.78250131 1.51382574 1.25613974 1.08753866\n",
      " 0.99365434 0.94096085 0.83571487 0.77230794 0.73018798 0.67621582\n",
      " 0.6123672  0.54119938 0.53176671 0.49407672 0.4483305  0.38809163\n",
      " 0.31138883 0.26448288 0.23099424 0.17842812 0.14805193 0.10768931\n",
      " 0.09148854 0.07272821 0.05329433]\n",
      "The confusion matrix is : \n",
      " [[371   3]\n",
      " [  3 422]]\n",
      "ACCU: \n",
      " 0.9924906132665833\n",
      "pca.explained_variance is  [7.10649836 4.9565906  4.49501783 3.12031755 2.66909726 2.36398568\n",
      " 2.27424294 1.92557068 1.78250131 1.51382574 1.25613974 1.08753866\n",
      " 0.99365434 0.94096085 0.83571487 0.77230794 0.73018798 0.67621582\n",
      " 0.6123672  0.54119938 0.53176671 0.49407672 0.4483305  0.38809163\n",
      " 0.31138883 0.26448288 0.23099424 0.17842812 0.14805193 0.10768931\n",
      " 0.09148854 0.07272821 0.05329433 0.03175516]\n",
      "The confusion matrix is : \n",
      " [[372   2]\n",
      " [  2 423]]\n",
      "ACCU: \n",
      " 0.9949937421777222\n",
      "pca.explained_variance is  [7.10649836 4.9565906  4.49501783 3.12031755 2.66909726 2.36398568\n",
      " 2.27424294 1.92557068 1.78250131 1.51382574 1.25613974 1.08753866\n",
      " 0.99365434 0.94096085 0.83571487 0.77230794 0.73018798 0.67621582\n",
      " 0.6123672  0.54119938 0.53176671 0.49407672 0.4483305  0.38809163\n",
      " 0.31138883 0.26448288 0.23099424 0.17842812 0.14805193 0.10768931\n",
      " 0.09148854 0.07272821 0.05329433 0.03175516 0.02507453]\n",
      "The confusion matrix is : \n",
      " [[372   2]\n",
      " [  2 423]]\n",
      "ACCU: \n",
      " 0.9949937421777222\n",
      "pca.explained_variance is  [7.10649836e+00 4.95659060e+00 4.49501783e+00 3.12031755e+00\n",
      " 2.66909726e+00 2.36398568e+00 2.27424294e+00 1.92557068e+00\n",
      " 1.78250131e+00 1.51382574e+00 1.25613974e+00 1.08753866e+00\n",
      " 9.93654339e-01 9.40960850e-01 8.35714869e-01 7.72307937e-01\n",
      " 7.30187981e-01 6.76215823e-01 6.12367203e-01 5.41199381e-01\n",
      " 5.31766705e-01 4.94076722e-01 4.48330497e-01 3.88091631e-01\n",
      " 3.11388833e-01 2.64482876e-01 2.30994245e-01 1.78428122e-01\n",
      " 1.48051925e-01 1.07689314e-01 9.14885389e-02 7.27282070e-02\n",
      " 5.32943333e-02 3.17551645e-02 2.50745289e-02 3.68019608e-03]\n",
      "The confusion matrix is : \n",
      " [[372   2]\n",
      " [  2 423]]\n",
      "ACCU: \n",
      " 0.9949937421777222\n"
     ]
    }
   ],
   "source": [
    "## your code here\n",
    "sum_var = []\n",
    "accu = []\n",
    "n_c = np.arange(36)+1\n",
    "for i in range(1,37):\n",
    "    temp_accu, temp_sum = fun(i,x_train,x_test,y_train,y_test)\n",
    "    accu.append(temp_accu)\n",
    "    sum_var.append(temp_sum)"
   ]
  },
  {
   "cell_type": "markdown",
   "metadata": {},
   "source": [
    "### 6.3 Plot   number of components vs accuracy\n",
    "\n",
    "Now that we have those numbers, it makes sense to look at the accuracy vs components.\n",
    "\n",
    "<font size=8 color=\"#009600\">&#9998;</font> Do this - Plot the accuracy vs components."
   ]
  },
  {
   "cell_type": "code",
   "execution_count": 94,
   "metadata": {},
   "outputs": [
    {
     "data": {
      "text/plain": [
       "Text(0, 0.5, 'accuracy')"
      ]
     },
     "execution_count": 94,
     "metadata": {},
     "output_type": "execute_result"
    },
    {
     "data": {
      "image/png": "[encoded data removed]",
      "text/plain": [
       "<Figure size 432x288 with 1 Axes>"
      ]
     },
     "metadata": {
      "needs_background": "light"
     },
     "output_type": "display_data"
    }
   ],
   "source": [
    "## your code here\n",
    "plt.scatter(n_c, accu)\n",
    "plt.xlabel(\"number of components\")\n",
    "plt.ylabel(\"accuracy\")"
   ]
  },
  {
   "cell_type": "markdown",
   "metadata": {},
   "source": [
    "**Question:** Where does it seem like we have diminishing returns, that is, no major increase in accuracy as we add additional components to the PCA?"
   ]
  },
  {
   "cell_type": "markdown",
   "metadata": {},
   "source": [
    "<font size=8 color=\"#009600\">&#9998;</font> When the n is small enough (near, 3, less than a threshhold) it will have diminishing returns "
   ]
  },
  {
   "cell_type": "markdown",
   "metadata": {},
   "source": [
    "### 6.4 Plot  number of components vs total explained variance \n",
    "\n",
    "<font size=8 color=\"#009600\">&#9998;</font> Do this - Plot the total explained variance vs components. "
   ]
  },
  {
   "cell_type": "code",
   "execution_count": 98,
   "metadata": {},
   "outputs": [
    {
     "data": {
      "text/plain": [
       "Text(0, 0.5, 'total explained variance')"
      ]
     },
     "execution_count": 98,
     "metadata": {},
     "output_type": "execute_result"
    },
    {
     "data": {
      "image/png": "[encoded data removed]",
      "text/plain": [
       "<Figure size 432x288 with 1 Axes>"
      ]
     },
     "metadata": {
      "needs_background": "light"
     },
     "output_type": "display_data"
    }
   ],
   "source": [
    "## your code here\n",
    "plt.scatter(n_c, sum_var)\n",
    "plt.xlabel(\"number of components\")\n",
    "plt.ylabel(\"total explained variance\")"
   ]
  },
  {
   "cell_type": "markdown",
   "metadata": {},
   "source": [
    "**Question:** Where does it seem like we have diminishing returns, that is, no major increase in explained variance as we add additional components to the PCA? How does that number of components compare to the diminishing returns for accuracy?"
   ]
  },
  {
   "cell_type": "markdown",
   "metadata": {},
   "source": [
    "<font size=8 color=\"#009600\">&#9998;</font> When the n is small enough (near 25, less than a threshhold) it will have diminishing returns "
   ]
  },
  {
   "cell_type": "markdown",
   "metadata": {},
   "source": [
    "---\n",
    "## 7. Assignment wrap-up¶\n",
    "Please fill out the form that appears when you run the code below. **You must completely fill this out in order to receive credit for the assignment!**"
   ]
  },
  {
   "cell_type": "code",
   "execution_count": 31,
   "metadata": {},
   "outputs": [
    {
     "data": {
      "text/html": [
       "\n",
       "<iframe \n",
       "\tsrc=\"https://docs.google.com/forms/d/e/1FAIpQLSc0IBD2mdn4TcRyi-KNXVtS3aEg6U4mOFq2MOciLQyEP4bg1w/viewform?usp=sf_link\" \n",
       "\twidth=\"800px\" \n",
       "\theight=\"600px\" \n",
       "\tframeborder=\"0\" \n",
       "\tmarginheight=\"0\" \n",
       "\tmarginwidth=\"0\">\n",
       "\tLoading...\n",
       "</iframe>\n"
      ],
      "text/plain": [
       "<IPython.core.display.HTML object>"
      ]
     },
     "execution_count": 31,
     "metadata": {},
     "output_type": "execute_result"
    }
   ],
   "source": [
    "from IPython.display import HTML\n",
    "HTML(\n",
    "\"\"\"\n",
    "<iframe \n",
    "\tsrc=\"https://docs.google.com/forms/d/e/1FAIpQLSc0IBD2mdn4TcRyi-KNXVtS3aEg6U4mOFq2MOciLQyEP4bg1w/viewform?usp=sf_link\" \n",
    "\twidth=\"800px\" \n",
    "\theight=\"600px\" \n",
    "\tframeborder=\"0\" \n",
    "\tmarginheight=\"0\" \n",
    "\tmarginwidth=\"0\">\n",
    "\tLoading...\n",
    "</iframe>\n",
    "\"\"\"\n",
    ")"
   ]
  },
  {
   "cell_type": "markdown",
   "metadata": {},
   "source": [
    "### Congratulations, you're done!\n",
    "Submit this assignment by uploading it to the course Desire2Learn web page. Go to the \"Homework Assignments\" folder, find the dropbox link for Homework 4, and upload your notebook."
   ]
  },
  {
   "cell_type": "code",
   "execution_count": null,
   "metadata": {},
   "outputs": [],
   "source": []
  }
 ],
 "metadata": {
  "kernelspec": {
   "display_name": "Python 3",
   "language": "python",
   "name": "python3"
  },
  "language_info": {
   "codemirror_mode": {
    "name": "ipython",
    "version": 3
   },
   "file_extension": ".py",
   "mimetype": "text/x-python",
   "name": "python",
   "nbconvert_exporter": "python",
   "pygments_lexer": "ipython3",
   "version": "3.8.3"
  }
 },
 "nbformat": 4,
 "nbformat_minor": 4
}
